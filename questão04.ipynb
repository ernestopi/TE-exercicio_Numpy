{
  "nbformat": 4,
  "nbformat_minor": 0,
  "metadata": {
    "colab": {
      "provenance": []
    },
    "kernelspec": {
      "name": "python3",
      "display_name": "Python 3"
    },
    "language_info": {
      "name": "python"
    }
  },
  "cells": [
    {
      "cell_type": "code",
      "execution_count": 1,
      "metadata": {
        "colab": {
          "base_uri": "https://localhost:8080/"
        },
        "id": "7sTLThiWfJ31",
        "outputId": "e5ca0ccf-feec-4fe0-a91e-927b262beeb3"
      },
      "outputs": [
        {
          "output_type": "stream",
          "name": "stdout",
          "text": [
            "O valor mais frequente é: 6\n"
          ]
        }
      ],
      "source": [
        "import numpy as np\n",
        "\n",
        "# Cria um array de exemplo\n",
        "arr = np.array([1, 2, 3, 4, 5, 5, 5, 6, 6, 6, 6, 6])\n",
        "\n",
        "# Usa o numpy.bincount() para contar as ocorrências de cada valor\n",
        "counts = np.bincount(arr)\n",
        "\n",
        "# Usa o numpy.argmax() para encontrar o índice do valor mais frequente\n",
        "most_frequent_value = np.argmax(counts)\n",
        "\n",
        "# Acessa o valor correspondente no array de entrada\n",
        "print(\"O valor mais frequente é:\", most_frequent_value)"
      ]
    }
  ]
}